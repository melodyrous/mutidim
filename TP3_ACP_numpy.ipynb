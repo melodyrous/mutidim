{
  "nbformat": 4,
  "nbformat_minor": 0,
  "metadata": {
    "colab": {
      "name": "TP3-ACP-numpy",
      "provenance": [],
      "collapsed_sections": [],
      "include_colab_link": true
    },
    "kernelspec": {
      "name": "python3",
      "display_name": "Python 3"
    }
  },
  "cells": [
    {
      "cell_type": "markdown",
      "metadata": {
        "id": "view-in-github",
        "colab_type": "text"
      },
      "source": [
        "<a href=\"https://colab.research.google.com/github/melodyrous/mutidim/blob/master/TP3_ACP_numpy.ipynb\" target=\"_parent\"><img src=\"https://colab.research.google.com/assets/colab-badge.svg\" alt=\"Open In Colab\"/></a>"
      ]
    },
    {
      "cell_type": "markdown",
      "metadata": {
        "id": "Jet8S7c0Hppu"
      },
      "source": [
        "# Analyse de données multidimensionnelles\n",
        "## Entrez ici votre nom et prénom\n",
        "\n",
        "# TP 3: Programmer sa propre ACP en `numpy`\n",
        "\n",
        "\n",
        "\n",
        "\n",
        "---\n",
        "Ce notebook contient votre compte-rendu pour le TP sur table.\n",
        "Il s'agit d'un travail __individuel__ que vous devez finir dans le temps imparti.\n",
        "\n",
        " <img src=\"https://lca-icsi.com/wp-content/uploads/2016/04/warning.png\" alt=\"attention\" height=\"42\" width=\"42\" align=\"top\"> \n",
        " \n",
        " __Toute communication entre vous ou des extérieurs durant la durée de ce TP est interdit.__\n",
        "\n",
        "Vous avez par contre le droit\n",
        "* de vous aider de forums ou de sites quelconques internet.\n",
        "* De copier-coller du code. Dans ce cas, vous devez indiquer la source du programme de manière correcte (et comme pour le reste: commenter en français chaque ligne).\n",
        "* De me demander de l'aide en cas de blocage.\n",
        "\n",
        "\n",
        "Les critères de notation sont:\n",
        "* La qualité des commentaires détaillés et en français de __chaque ligne__ du programme.\n",
        "* Un code bien structuré et lisible.\n",
        "* L'exactitude des résultats\n",
        "---"
      ]
    },
    {
      "cell_type": "markdown",
      "metadata": {
        "id": "cM9blGyyzTGR"
      },
      "source": [
        "# Travail demandé\n",
        "\n",
        "1. Récupérer sous forme de tableau `numpy` des données numériques comme dans les TP précédents. Choisissez un des jeux de données de la [page de F. Husson](https://husson.github.io/data.html). Il est conseillé de passer par le biais de `read_csv` de pandas.\n",
        "2. Programmez une fonction `ACP` qui:\n",
        "   *  Prend en paramètre les données, ainsi que le nombre de composantes souhaitées\n",
        "   * Retourne les composantes principales, ainsi que l'ACP des données.\n",
        "3. Appliquez cette fonction à vos données\n",
        "4. Calculez la reconstruction de vos données, affichez les données originales, les données reconstruites\n",
        "5. Refaites la même chose avec un nombre variable de composantes\n",
        "6. Créez une fonction qui prend en entrée un DataFrame, la liste des colonnes à traiter (toutes si None), et le nombre de composantes et qui renvoie deux nouveaux DataFrame:\n",
        "  * Le premier contient l'ACP des données\n",
        "  * Le deuxième contient la reconstruction des données, avec le même nom de colonnes que dans le DataFrame initial.  \n",
        "  Testez cett fonction sur plusieurs jeux de données.\n",
        "6. Une fois tout ça implémenté, vous pouvez avoir des points bonus en:\n",
        "   * Réalisant des affichages intéressants, qui peuvent reprendre les différents TPs.\n",
        "   * Bien commenter votre code.\n",
        "   * Toute autre idée intéressante."
      ]
    },
    {
      "cell_type": "code",
      "metadata": {
        "id": "duCOmrf0dpNE"
      },
      "source": [
        "import pandas as pd\n",
        "import numpy as np"
      ],
      "execution_count": null,
      "outputs": []
    },
    {
      "cell_type": "code",
      "metadata": {
        "colab": {
          "base_uri": "https://localhost:8080/",
          "height": 245
        },
        "id": "4-QTgFZUs1bT",
        "outputId": "a48a9cca-5c31-4cee-99b0-8fd78a47c701"
      },
      "source": [
        "df = pd.read_csv(\"http://factominer.free.fr/livre/orange.csv\", sep=\";\", encoding='Latin1')\n",
        "print(df.shape)\n",
        "df.head()\n",
        "df =df.set_index(\"Produit\")\n",
        "df.head()\n"
      ],
      "execution_count": null,
      "outputs": [
        {
          "output_type": "stream",
          "text": [
            "(6, 18)\n"
          ],
          "name": "stdout"
        },
        {
          "output_type": "execute_result",
          "data": {
            "text/html": [
              "<div>\n",
              "<style scoped>\n",
              "    .dataframe tbody tr th:only-of-type {\n",
              "        vertical-align: middle;\n",
              "    }\n",
              "\n",
              "    .dataframe tbody tr th {\n",
              "        vertical-align: top;\n",
              "    }\n",
              "\n",
              "    .dataframe thead th {\n",
              "        text-align: right;\n",
              "    }\n",
              "</style>\n",
              "<table border=\"1\" class=\"dataframe\">\n",
              "  <thead>\n",
              "    <tr style=\"text-align: right;\">\n",
              "      <th></th>\n",
              "      <th>Intensité odeur</th>\n",
              "      <th>Typicité odeur</th>\n",
              "      <th>Caractère pulpeux</th>\n",
              "      <th>Intensité goût</th>\n",
              "      <th>Caractère acide</th>\n",
              "      <th>Caractère amer</th>\n",
              "      <th>Caractère sucré</th>\n",
              "      <th>Glucose</th>\n",
              "      <th>Fructose</th>\n",
              "      <th>Saccharose</th>\n",
              "      <th>Pouvoir sucrant</th>\n",
              "      <th>pH</th>\n",
              "      <th>Titre</th>\n",
              "      <th>Acide citrique</th>\n",
              "      <th>Vitamine C</th>\n",
              "      <th>Conditionnement</th>\n",
              "      <th>Origine</th>\n",
              "    </tr>\n",
              "    <tr>\n",
              "      <th>Produit</th>\n",
              "      <th></th>\n",
              "      <th></th>\n",
              "      <th></th>\n",
              "      <th></th>\n",
              "      <th></th>\n",
              "      <th></th>\n",
              "      <th></th>\n",
              "      <th></th>\n",
              "      <th></th>\n",
              "      <th></th>\n",
              "      <th></th>\n",
              "      <th></th>\n",
              "      <th></th>\n",
              "      <th></th>\n",
              "      <th></th>\n",
              "      <th></th>\n",
              "      <th></th>\n",
              "    </tr>\n",
              "  </thead>\n",
              "  <tbody>\n",
              "    <tr>\n",
              "      <th>Pampryl amb.</th>\n",
              "      <td>2.82</td>\n",
              "      <td>2.53</td>\n",
              "      <td>1.66</td>\n",
              "      <td>3.46</td>\n",
              "      <td>3.15</td>\n",
              "      <td>2.97</td>\n",
              "      <td>2.60</td>\n",
              "      <td>25.32</td>\n",
              "      <td>27.36</td>\n",
              "      <td>36.45</td>\n",
              "      <td>89.95</td>\n",
              "      <td>3.59</td>\n",
              "      <td>13.98</td>\n",
              "      <td>0.84</td>\n",
              "      <td>43.44</td>\n",
              "      <td>Ambiant</td>\n",
              "      <td>Autre</td>\n",
              "    </tr>\n",
              "    <tr>\n",
              "      <th>Tropicana amb.</th>\n",
              "      <td>2.76</td>\n",
              "      <td>2.82</td>\n",
              "      <td>1.91</td>\n",
              "      <td>3.23</td>\n",
              "      <td>2.55</td>\n",
              "      <td>2.08</td>\n",
              "      <td>3.32</td>\n",
              "      <td>17.33</td>\n",
              "      <td>20.00</td>\n",
              "      <td>44.15</td>\n",
              "      <td>82.55</td>\n",
              "      <td>3.89</td>\n",
              "      <td>11.14</td>\n",
              "      <td>0.67</td>\n",
              "      <td>32.70</td>\n",
              "      <td>Ambiant</td>\n",
              "      <td>Floride</td>\n",
              "    </tr>\n",
              "    <tr>\n",
              "      <th>Fruvita fr.</th>\n",
              "      <td>2.83</td>\n",
              "      <td>2.88</td>\n",
              "      <td>4.00</td>\n",
              "      <td>3.45</td>\n",
              "      <td>2.42</td>\n",
              "      <td>1.76</td>\n",
              "      <td>3.38</td>\n",
              "      <td>23.65</td>\n",
              "      <td>25.65</td>\n",
              "      <td>52.12</td>\n",
              "      <td>102.22</td>\n",
              "      <td>3.85</td>\n",
              "      <td>11.51</td>\n",
              "      <td>0.69</td>\n",
              "      <td>37.00</td>\n",
              "      <td>Frais</td>\n",
              "      <td>Floride</td>\n",
              "    </tr>\n",
              "    <tr>\n",
              "      <th>Joker amb.</th>\n",
              "      <td>2.76</td>\n",
              "      <td>2.59</td>\n",
              "      <td>1.66</td>\n",
              "      <td>3.37</td>\n",
              "      <td>3.05</td>\n",
              "      <td>2.56</td>\n",
              "      <td>2.80</td>\n",
              "      <td>32.42</td>\n",
              "      <td>34.54</td>\n",
              "      <td>22.92</td>\n",
              "      <td>90.71</td>\n",
              "      <td>3.60</td>\n",
              "      <td>15.75</td>\n",
              "      <td>0.95</td>\n",
              "      <td>36.60</td>\n",
              "      <td>Ambiant</td>\n",
              "      <td>Autre</td>\n",
              "    </tr>\n",
              "    <tr>\n",
              "      <th>Tropicana fr.</th>\n",
              "      <td>3.20</td>\n",
              "      <td>3.02</td>\n",
              "      <td>3.69</td>\n",
              "      <td>3.12</td>\n",
              "      <td>2.33</td>\n",
              "      <td>1.97</td>\n",
              "      <td>3.34</td>\n",
              "      <td>22.70</td>\n",
              "      <td>25.32</td>\n",
              "      <td>45.80</td>\n",
              "      <td>94.87</td>\n",
              "      <td>3.82</td>\n",
              "      <td>11.80</td>\n",
              "      <td>0.71</td>\n",
              "      <td>39.50</td>\n",
              "      <td>Frais</td>\n",
              "      <td>Floride</td>\n",
              "    </tr>\n",
              "  </tbody>\n",
              "</table>\n",
              "</div>"
            ],
            "text/plain": [
              "                Intensité odeur  Typicité odeur  ...  Conditionnement  Origine\n",
              "Produit                                          ...                          \n",
              "Pampryl amb.               2.82            2.53  ...          Ambiant    Autre\n",
              "Tropicana amb.             2.76            2.82  ...          Ambiant  Floride\n",
              "Fruvita fr.                2.83            2.88  ...            Frais  Floride\n",
              "Joker amb.                 2.76            2.59  ...          Ambiant    Autre\n",
              "Tropicana fr.              3.20            3.02  ...            Frais  Floride\n",
              "\n",
              "[5 rows x 17 columns]"
            ]
          },
          "metadata": {
            "tags": []
          },
          "execution_count": 32
        }
      ]
    },
    {
      "cell_type": "code",
      "metadata": {
        "colab": {
          "base_uri": "https://localhost:8080/"
        },
        "id": "72NNSL-gv9ma",
        "outputId": "f28cb5be-7291-423e-b435-c97e45eb73c8"
      },
      "source": [
        "#Code de l'ACP\n",
        "from numpy import array\n",
        "from numpy import mean\n",
        "from numpy import cov\n",
        "from numpy.linalg import eig\n",
        "# define a matrix\n",
        "A = array([[1, 2], [3, 4], [5, 6]])\n",
        "print(\"A:\",A)\n",
        "# calculate the mean of each column\n",
        "M = mean(A.T, axis=1)\n",
        "print(\"Mean:\",(M))\n",
        "# center columns by subtracting column means\n",
        "C = A - M\n",
        "print(\"Centered:\",C)\n",
        "# calculate covariance matrix of centered matrix\n",
        "V = cov(C.T)\n",
        "print(\"V covariance\",V)\n",
        "# eigendecomposition of covariance matrix\n",
        "values, vectors = eig(V)\n",
        "print(\"vectors\",vectors)\n",
        "print(\"values\",values)\n",
        "# project data\n",
        "P = vectors.T.dot(C.T)\n",
        "print(\"Projection\",P.T)\n",
        "\n",
        "#Source: https://machinelearningmastery.com/calculate-principal-component-analysis-scratch-python/"
      ],
      "execution_count": null,
      "outputs": [
        {
          "output_type": "stream",
          "text": [
            "A: [[1 2]\n",
            " [3 4]\n",
            " [5 6]]\n",
            "Mean: [3. 4.]\n",
            "Centered: [[-2. -2.]\n",
            " [ 0.  0.]\n",
            " [ 2.  2.]]\n",
            "V covariance [[4. 4.]\n",
            " [4. 4.]]\n",
            "vectors [[ 0.70710678 -0.70710678]\n",
            " [ 0.70710678  0.70710678]]\n",
            "values [8. 0.]\n",
            "Projection [[-2.82842712  0.        ]\n",
            " [ 0.          0.        ]\n",
            " [ 2.82842712  0.        ]]\n"
          ],
          "name": "stdout"
        }
      ]
    },
    {
      "cell_type": "code",
      "metadata": {
        "id": "xyUQpW6cvOWy"
      },
      "source": [
        "def craftACP(data, n_component=2):\n",
        "  \"\"\" Procède à une acp des données\n",
        "  Parametres\n",
        "    data: dataframe ou matrice non centrée-réduite \n",
        "  Retourne\n",
        "    matrice: Axes ou composants de l'CAP\n",
        "    matrice: \n",
        "  \"\"\"\n",
        "  M = mean(data.T, axis=1)\n",
        "  C = data - M\n",
        "  V = cov(C.T)\n",
        "  values, vectors = eig(V)\n",
        "  vectors = vectors[:n_component]\n",
        "  P = C.dot(vectors.T)\n",
        "  return vectors, P, M\n",
        "\n",
        "X = df.loc[:,\"Intensité odeur\":\"Vitamine C\"]\n",
        "vectors, projection, M = craftACP(X, 15)"
      ],
      "execution_count": null,
      "outputs": []
    },
    {
      "cell_type": "code",
      "metadata": {
        "colab": {
          "base_uri": "https://localhost:8080/"
        },
        "id": "aRs9PAD39nzR",
        "outputId": "d08fa8a7-860e-4f32-cf24-f3f30b769a3b"
      },
      "source": [
        "print(vectors.shape)\n",
        "print(projection.shape)"
      ],
      "execution_count": null,
      "outputs": [
        {
          "output_type": "stream",
          "text": [
            "(15, 15)\n",
            "(6, 15)\n"
          ],
          "name": "stdout"
        }
      ]
    },
    {
      "cell_type": "code",
      "metadata": {
        "colab": {
          "base_uri": "https://localhost:8080/"
        },
        "id": "RV8qi-wpIKwd",
        "outputId": "826c2630-8f2b-4fd1-fff3-02dd99bda879"
      },
      "source": [
        "reconstruction = projection.dot(np.linalg.inv(vectors.T))\n",
        "reconstruction + M.values\n",
        "print(np.allclose(X,reconstruction + M.values))"
      ],
      "execution_count": null,
      "outputs": [
        {
          "output_type": "stream",
          "text": [
            "True\n"
          ],
          "name": "stdout"
        }
      ]
    }
  ]
}