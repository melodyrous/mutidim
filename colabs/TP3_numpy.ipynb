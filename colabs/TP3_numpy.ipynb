{
  "nbformat": 4,
  "nbformat_minor": 0,
  "metadata": {
    "colab": {
      "name": "TP3-ACP-numpy",
      "provenance": [],
      "collapsed_sections": [],
      "include_colab_link": true
    },
    "kernelspec": {
      "name": "python3",
      "display_name": "Python 3"
    }
  },
  "cells": [
    {
      "cell_type": "markdown",
      "metadata": {
        "id": "view-in-github",
        "colab_type": "text"
      },
      "source": [
        "<a href=\"https://colab.research.google.com/github/lafaye-UPV/V3DMI5/blob/master/colabs/TP3_numpy.ipynb\" target=\"_parent\"><img src=\"https://colab.research.google.com/assets/colab-badge.svg\" alt=\"Open In Colab\"/></a>"
      ]
    },
    {
      "cell_type": "markdown",
      "metadata": {
        "id": "Jet8S7c0Hppu",
        "colab_type": "text"
      },
      "source": [
        "# Analyse de données multidimensionnelles\n",
        "## Entrez ici votre nom et prénom\n",
        "\n",
        "# TP 3: Programmer sa propre ACP en `numpy`\n",
        "\n",
        "\n",
        "\n",
        "\n",
        "---\n",
        "Ce notebook contient votre compte-rendu pour le TP sur table.\n",
        "Il s'agit d'un travail __individuel__ que vous devez finir dans le temps imparti.\n",
        "\n",
        " <img src=\"https://lca-icsi.com/wp-content/uploads/2016/04/warning.png\" alt=\"attention\" height=\"42\" width=\"42\" align=\"top\"> \n",
        " \n",
        " __Toute communication entre vous ou des extérieurs durant la durée de ce TP est interdit.__\n",
        "\n",
        "Vous avez par contre le droit\n",
        "* de vous aider de forums ou de sites quelconques internet.\n",
        "* De copier-coller du code. Dans ce cas, vous devez indiquer la source du programme de manière correcte (et comme pour le reste: commenter en français chaque ligne).\n",
        "* De me demander de l'aide en cas de blocage.\n",
        "\n",
        "\n",
        "Les critères de notation sont:\n",
        "* La qualité des commentaires détaillés et en français de __chaque ligne__ du programme.\n",
        "* Un code bien structuré et lisible.\n",
        "* L'exactitude des résultats\n",
        "---"
      ]
    },
    {
      "cell_type": "markdown",
      "metadata": {
        "id": "cM9blGyyzTGR",
        "colab_type": "text"
      },
      "source": [
        "# Travail demandé\n",
        "\n",
        "1. Récupérer sous forme de tableau `numpy` des données numériques comme dans les TP précédents. Choisissez un des jeux de données de la [page de F. Husson](https://husson.github.io/data.html). Il est conseillé de passer par le biais de `read_csv` de pandas.\n",
        "2. Programmez une fonction `ACP` qui:\n",
        "   *  Prend en paramètre les données, ainsi que le nombre de composantes souhaitées\n",
        "   * Retourne les composantes principales, ainsi que l'ACP des données.\n",
        "3. Appliquez cette fonction à vos données\n",
        "4. Calculez la reconstruction de vos données, affichez les données originales, les données reconstruites\n",
        "5. Refaites la même chose avec un nombre variable de composantes\n",
        "6. Créez une fonction qui prend en entrée un DataFrame, la liste des colonnes à traiter (toutes si None), et le nombre de composantes et qui renvoie deux nouveaux DataFrame:\n",
        "  * Le premier contient l'ACP des données\n",
        "  * Le deuxième contient la reconstruction des données, avec le même nom de colonnes que dans le DataFrame initial.  \n",
        "  Testez cett fonction sur plusieurs jeux de données.\n",
        "6. Une fois tout ça implémenté, vous pouvez avoir des points bonus en:\n",
        "   * Réalisant des affichages intéressants, qui peuvent reprendre les différents TPs.\n",
        "   * Bien commenter votre code.\n",
        "   * Toute autre idée intéressante."
      ]
    },
    {
      "cell_type": "code",
      "metadata": {
        "id": "duCOmrf0dpNE",
        "colab_type": "code",
        "colab": {}
      },
      "source": [
        ""
      ],
      "execution_count": 0,
      "outputs": []
    }
  ]
}