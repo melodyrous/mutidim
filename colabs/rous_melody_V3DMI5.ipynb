{
  "nbformat": 4,
  "nbformat_minor": 0,
  "metadata": {
    "colab": {
      "name": "exam_V3DMI5_2020.ipynb",
      "provenance": [],
      "collapsed_sections": []
    },
    "kernelspec": {
      "name": "python3",
      "display_name": "Python 3"
    }
  },
  "cells": [
    {
      "cell_type": "markdown",
      "metadata": {
        "id": "Jet8S7c0Hppu"
      },
      "source": [
        "# Analyse de données multidimensionnelles\n",
        "## Entrez ici votre nom et prénom\n",
        "\n",
        "# Sujet de l'examen Final 2020 du Cours V3DMI5\n",
        "\n",
        "---\n",
        "Ce notebook contient votre compte-rendu pour l'examen. Il s'agit d'un travail __individuel__ que vous devez finir dans le temps imparti. Vous devez impérativement sauvegarder votre travail sous la forme d'un fichier  au format *.ipynb (Menu: Fichier / Télécharger le fichier .ipynb) et le téléverser sur Moodle avant l'heure limite de 10h45 (prévoir quelques minutes car l'outil Moodle se bloque automatiquement à 10h45).\n",
        "\n",
        " <img src=\"https://lca-icsi.com/wp-content/uploads/2016/04/warning.png\" alt=\"attention\" height=\"42\" width=\"42\" align=\"top\"> \n",
        " \n",
        " __Toute communication entre vous ou des extérieurs durant la durée de ce TP est interdite.__\n",
        "\n",
        "Vous avez par contre le droit\n",
        "* de vous aider de forums ou de sites quelconques internet.\n",
        "* De copier-coller du code. Dans ce cas, vous devez indiquer la source du programme de manière correcte (et comme pour le reste: commenter en français chaque ligne).\n",
        "* De me demander de l'aide sur Discord en cas de blocage majeur.\n",
        "\n",
        "\n",
        "Les critères de notation sont:\n",
        "* La qualité des commentaires détaillés et en français de __chaque ligne__ du programme.\n",
        "* Un code bien structuré et lisible.\n",
        "* L'exactitude des résultats\n",
        "---"
      ]
    },
    {
      "cell_type": "markdown",
      "metadata": {
        "id": "cM9blGyyzTGR"
      },
      "source": [
        "# Travail demandé\n",
        "\n",
        "1. Récupérer sous forme de tableau `numpy` les données du fichier http://biostatisticien.eu/Nobel_avecMath.csv qui contient le nombre de prix nobel et la taille de la population (en millions d'habitants) pour plusieurs pays ou grandes régions du monde. Utiliser la fonction `read_csv` de la librairie `pandas` et stocker le tableau dans un objet nommé `data_nobel`. (1 point)\n"
      ]
    },
    {
      "cell_type": "code",
      "metadata": {
        "id": "03FKq-1T6rTR"
      },
      "source": [
        "# VOTRE CODE ICI"
      ],
      "execution_count": null,
      "outputs": []
    },
    {
      "cell_type": "markdown",
      "metadata": {
        "id": "rI9cu69J7jHC"
      },
      "source": [
        "2. Afficher les premières lignes de ce fichier. (1 point)"
      ]
    },
    {
      "cell_type": "code",
      "metadata": {
        "id": "tVhgg0va7oOB"
      },
      "source": [
        "# VOTRE CODE ICI"
      ],
      "execution_count": null,
      "outputs": []
    },
    {
      "cell_type": "markdown",
      "metadata": {
        "id": "-m3ork7K8L3J"
      },
      "source": [
        "3. Renommer la première colonne avec l'intitulé \"Pays ou région\", puis choisir cette colonne comme index et afficher les premieres lignes de la table ainsi modifiée. (1 point)"
      ]
    },
    {
      "cell_type": "code",
      "metadata": {
        "id": "8Q0Qh4il8ldU"
      },
      "source": [
        "# VOTRE CODE ICI"
      ],
      "execution_count": null,
      "outputs": []
    },
    {
      "cell_type": "markdown",
      "metadata": {
        "id": "BtZqKug8839t"
      },
      "source": [
        "4. Afficher une description numerique de toutes les variables comme vu dans le cours (1 point)"
      ]
    },
    {
      "cell_type": "code",
      "metadata": {
        "id": "buMDnMDn89PZ"
      },
      "source": [
        "# VOTRE CODE ICI"
      ],
      "execution_count": null,
      "outputs": []
    },
    {
      "cell_type": "markdown",
      "metadata": {
        "id": "i71SZkpzArCe"
      },
      "source": [
        "5. Afficher la liste des pays et régions. (1 point)"
      ]
    },
    {
      "cell_type": "code",
      "metadata": {
        "id": "K-hxDCqGAxwL"
      },
      "source": [
        "# VOTRE CODE ICI"
      ],
      "execution_count": null,
      "outputs": []
    },
    {
      "cell_type": "markdown",
      "metadata": {
        "id": "cGvtf80t-QLA"
      },
      "source": [
        "6. En utilisant la fonction `at`, extraire et afficher le nombre de prix nobel de physique en Allemagne. (1 point)"
      ]
    },
    {
      "cell_type": "code",
      "metadata": {
        "id": "CKnZopPY-Z6F"
      },
      "source": [
        "# VOTRE CODE ICI"
      ],
      "execution_count": null,
      "outputs": []
    },
    {
      "cell_type": "markdown",
      "metadata": {
        "id": "R6jSK3wS_vDh"
      },
      "source": [
        "7. Extraire et afficher la sous-table du nombre de prix nobel en sciences (Chimie, Physique et Mathématiques) pour les seuls quatre pays européens (sans la région `Europe`). Utiliser la fonction `loc`. (1 point)"
      ]
    },
    {
      "cell_type": "code",
      "metadata": {
        "id": "ZJnufzRHAP8w"
      },
      "source": [
        "# VOTRE CODE ICI"
      ],
      "execution_count": null,
      "outputs": []
    },
    {
      "cell_type": "markdown",
      "metadata": {
        "id": "hcCGXFXYBxlA"
      },
      "source": [
        "8. Réorganiser toutes les données par taille croissante de la population et afficher l'ensemble des données ainsi réorganisées. (1 point)"
      ]
    },
    {
      "cell_type": "code",
      "metadata": {
        "id": "hQBlKimdCAQQ"
      },
      "source": [
        "# VOTRE CODE ICI"
      ],
      "execution_count": null,
      "outputs": []
    },
    {
      "cell_type": "markdown",
      "metadata": {
        "id": "A7l66QrRCUk8"
      },
      "source": [
        "9. Faire un nuage de points (*scatter plot*) du nombre de prix nobel de mathématiques en fonction de la taille de la population. Inclure tous les pays et régions. Utiliser les librairies `seaborn` et `matplotlib`. Les noms des pays et régions seront visibles sur votre graphique et vos axes auront des labels. (1 point)"
      ]
    },
    {
      "cell_type": "code",
      "metadata": {
        "id": "3vFeuTvFCs-7"
      },
      "source": [
        "# VOTRE CODE ICI"
      ],
      "execution_count": null,
      "outputs": []
    },
    {
      "cell_type": "markdown",
      "metadata": {
        "id": "zKvqpeYhFz5t"
      },
      "source": [
        "10. Calculer et afficher le vecteur des moyennes de toutes les colonnes du jeu de données. Utiliser la librarie `numpy`. (1 point)"
      ]
    },
    {
      "cell_type": "code",
      "metadata": {
        "id": "bzoFIXDqGFVo"
      },
      "source": [
        "# VOTRE CODE ICI"
      ],
      "execution_count": null,
      "outputs": []
    },
    {
      "cell_type": "markdown",
      "metadata": {
        "id": "h-1mV_zrGrkn"
      },
      "source": [
        "11. Calculer et afficher le vecteur des écart-types de toutes les colonnes du jeu de données. Utiliser la librarie `numpy`. (1 point)"
      ]
    },
    {
      "cell_type": "code",
      "metadata": {
        "id": "h3un0NCWGyEr"
      },
      "source": [
        "# VOTRE CODE ICI"
      ],
      "execution_count": null,
      "outputs": []
    },
    {
      "cell_type": "markdown",
      "metadata": {
        "id": "TmFo5de5G_Gl"
      },
      "source": [
        "12. Calculer la matrice des données centrées-réduites et stocker la dans un objet nommé `X`. Vous pouvez soit utiliser les moyennes et écart-types calculés aux questions 10 et 11, soit utiliser une fonction de la librairie `sklearn` que nous avons vue en cours (auquel cas vous pouvez vérifier les valeurs trouvées aux deux questions précédentes.) Il est bon de noter que les fonctions `DataFrame` et `to_markdown` de la librairie `pandas` vous permettent d'obtenir un affichage plus joli (ce n'est pas exigé). (1 point)"
      ]
    },
    {
      "cell_type": "code",
      "metadata": {
        "id": "hGJBKhrhHWgv"
      },
      "source": [
        "# VOTRE CODE ICI"
      ],
      "execution_count": null,
      "outputs": []
    },
    {
      "cell_type": "markdown",
      "metadata": {
        "id": "KaDu5RfQKY2f"
      },
      "source": [
        "13. Utiliser les fonctions `eig` et `dot` de la librairie `numpy` pour calculer les valeurs propres et vecteurs propres de la matrice des corrélations $(X^TX)/n$ où $n$ est le nombre de pays/régions et $X$ est la matrice des données centrées-réduites obtenue à la question précédente. De manière équivalente, vous pouvez utiliser la fonction `corrcoef` de la librairie `numpy` directement sur `data_nobel.T`. (C'est ainsi une façon de vérifier vos résultats, ou bien d'être en mesure de faire cette question même si vous n'avez pas fait la question 12.) Stocker ces valeurs propres et vecteurs propres dans des objets nommés `values` et `vectors`. Afficher la valeur de $\\lambda_1$, la plus grande valeur propre (vous devriez trouver une valeur très proche de 6). (1 point)"
      ]
    },
    {
      "cell_type": "code",
      "metadata": {
        "id": "I95NjBltKqq1"
      },
      "source": [
        "# VOTRE CODE ICI"
      ],
      "execution_count": null,
      "outputs": []
    },
    {
      "cell_type": "markdown",
      "metadata": {
        "id": "1GIGzMBSPxW6"
      },
      "source": [
        "14. Post-multiplier la matrice des données centrées-réduites $X$ par le premier vecteur propre $v_1$ (associé à la plus grande valeur propre $\\lambda_1$) pour obtenir les coordonnées $C_1=Xv_1$ des observations après projection sur le premier axe principal. Vous noterez cet objet python `C1`. Faites de même pour le deuxième vecteur propre $v_2$ et noter l'objet résultant `C2`. Afficher le contenu de `C1`. (1 point)"
      ]
    },
    {
      "cell_type": "code",
      "metadata": {
        "id": "P5GqkBEGQX1-"
      },
      "source": [
        "# VOTRE CODE ICI"
      ],
      "execution_count": null,
      "outputs": []
    },
    {
      "cell_type": "markdown",
      "metadata": {
        "id": "LuodiFlMQsOG"
      },
      "source": [
        "15. Tracer le scatter plot de `C2` en fonction de `C1`. Ajouter sur chaque point les noms des pays et régions, et nommer l'axe horizontal \"Composante 1\" et l'axe vertical \"Composante 2\". (1 point)"
      ]
    },
    {
      "cell_type": "code",
      "metadata": {
        "id": "YaDHqyFwQxLl"
      },
      "source": [
        "# VOTRE CODE ICI"
      ],
      "execution_count": null,
      "outputs": []
    },
    {
      "cell_type": "markdown",
      "metadata": {
        "id": "RahuY1MLafUl"
      },
      "source": [
        "16. Faire la même chose qu'aux questions 13, 14 et 15 en utilisant la fonction `PCA` de la librairie `sklearn` comme on l'a vu en TP. Vous pouvez agrémenter le graphique que vous afficherez d'une belle légende avec la taille des points qui dépendra de la taille de la population. Il est bon de noter qu'un vecteur propre est défini au signe près. Ainsi, il est possible que le graphique obtenu ici soit en miroir pour l'un ou l'autre (ou les deux) des axes par rapport à celui que vous avez obtenu à la question 15. (1 point)"
      ]
    },
    {
      "cell_type": "code",
      "metadata": {
        "id": "BpxDajT8TY0b"
      },
      "source": [
        "# La fonction adjust_text, vue en TP, permet d'éviter des chevauchements de noms sur le graphique\n",
        "!pip install adjustText\n",
        "from adjustText import adjust_text"
      ],
      "execution_count": null,
      "outputs": []
    },
    {
      "cell_type": "code",
      "metadata": {
        "id": "l0B8t2IrY-5v"
      },
      "source": [
        "# VOTRE CODE ICI"
      ],
      "execution_count": null,
      "outputs": []
    },
    {
      "cell_type": "markdown",
      "metadata": {
        "id": "tKFu7Pv6a3D2"
      },
      "source": [
        "17. Calculer les scores individuels (de qualité de l'ACP) de tous les pays et régions et afficher les dans une belle table dont les lignes seront ordonnées par `scores` croissant et qui contiendra, dans cet ordre, les quatre variables: \"Composante1\", \"Composante2\", \"Population\" et \"scores\". L'index fera apparaître clairement les noms des `Pays ou région`. Interpréter. (1 point)"
      ]
    },
    {
      "cell_type": "code",
      "metadata": {
        "id": "QkpHWiqNbC4y"
      },
      "source": [
        "# VOTRE CODE ICI"
      ],
      "execution_count": null,
      "outputs": []
    },
    {
      "cell_type": "markdown",
      "metadata": {
        "id": "in2GaHnkb_59"
      },
      "source": [
        "18. Faire un graphique du pourcentage de variance expliquée cumulée. Que constatez-vous? (1 point)"
      ]
    },
    {
      "cell_type": "code",
      "metadata": {
        "id": "XE7ixWqMcXRC"
      },
      "source": [
        "# VOTRE CODE ICI"
      ],
      "execution_count": null,
      "outputs": []
    },
    {
      "cell_type": "markdown",
      "metadata": {
        "id": "LZpVobA8mhR2"
      },
      "source": [
        "19. Calculer la corrélation entre la composante 1 et chacune des 8 variables du jeu de données `data_nobel`. Faites de même pour la deuxième composante. Afficher ces valeurs de corrélation dans une table de dimension $8\\times2$ faisant clairement apparaître les noms des pays ou régions en ligne, et les noms \"Composante1\" et \"Composante2\" pour les deux colonnes. (1 point)"
      ]
    },
    {
      "cell_type": "code",
      "metadata": {
        "id": "2j328-N6m-HB"
      },
      "source": [
        "# VOTRE CODE ICI"
      ],
      "execution_count": null,
      "outputs": []
    },
    {
      "cell_type": "markdown",
      "metadata": {
        "id": "vjsiit0gsZ9U"
      },
      "source": [
        "20. Servez-vous de ces résultats pour interpréter les deux axes du nuage de points de la question 15 (ou 16). (1 point)"
      ]
    },
    {
      "cell_type": "markdown",
      "metadata": {
        "id": "FgZVwlXg3LYf"
      },
      "source": [
        "**Interprétation:**\n",
        "..."
      ]
    }
  ]
}