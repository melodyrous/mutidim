{
  "nbformat": 4,
  "nbformat_minor": 0,
  "metadata": {
    "colab": {
      "name": "3. numpy",
      "provenance": [],
      "collapsed_sections": [],
      "toc_visible": true,
      "include_colab_link": true
    },
    "kernelspec": {
      "name": "python3",
      "display_name": "Python 3"
    }
  },
  "cells": [
    {
      "cell_type": "markdown",
      "metadata": {
        "id": "view-in-github",
        "colab_type": "text"
      },
      "source": [
        "<a href=\"https://colab.research.google.com/github/lafaye-UPV/V3DMI5/blob/master/colabs/3_numpy.ipynb\" target=\"_parent\"><img src=\"https://colab.research.google.com/assets/colab-badge.svg\" alt=\"Open In Colab\"/></a>"
      ]
    },
    {
      "cell_type": "markdown",
      "metadata": {
        "id": "bHnNe4JxFBNH",
        "colab_type": "text"
      },
      "source": [
        "# MIASHS cours de master sur l'analyse de données multidimensionnelle\n",
        "## Cours 3: Les rudiments de la manipulation de tableaux en `numpy`\n",
        "---\n",
        "**Dans ce cours, vous allez apprendre:**\n",
        "* Les rudiments de `numpy`\n",
        "* Manipuler des données sous forme tensorielles (tableaux de chiffres)\n",
        "* Savoir où trouver l'information nécessaire pour aller plus loin\n",
        "\n",
        " <img src=\"https://lca-icsi.com/wp-content/uploads/2016/04/warning.png\" alt=\"attention\" height=\"42\" width=\"42\" align=\"middle\"> __Ce cours est indispensable pour bien faire le TP que vous aurez en temps limité !!__\n",
        "\n",
        "---\n"
      ]
    },
    {
      "cell_type": "markdown",
      "metadata": {
        "id": "Zc-chD8eKmp9",
        "colab_type": "text"
      },
      "source": [
        "# 1. Introduction"
      ]
    },
    {
      "cell_type": "markdown",
      "metadata": {
        "id": "-ZP3M6XrhuWa",
        "colab_type": "text"
      },
      "source": [
        "## a. Objectifs de ce cours\n",
        "\n",
        "Dans ce cours, on va voir comment on peut manipuler des tableaux de chiffres en Python, et effectuer des calculs sur des données multidimensionnelles numériques. "
      ]
    },
    {
      "cell_type": "markdown",
      "metadata": {
        "id": "wa9MEE8QyzEJ",
        "colab_type": "text"
      },
      "source": [
        "\n",
        "> Ce cours est inspiré du  [Numpy quickstart](https://docs.scipy.org/doc/numpy/user/quickstart.html)."
      ]
    },
    {
      "cell_type": "markdown",
      "metadata": {
        "id": "CGNr-CZ2y19D",
        "colab_type": "text"
      },
      "source": [
        "## b. Quelques ressources\n",
        "Je vous invite à consulter les nombreux sites présentant une introduction à Python et à `numpy`. Ce langage est extrêmement populaire actuellement et il sera toujours bon pour votre avenir professionnel de le maîtriser au mieux !\n",
        "\n",
        "Je vous invite à consulter les sites suivants:\n",
        "* [Une introduction en français](http://math.mad.free.fr/depot/numpy/essai.html)\n",
        "* [Un tutoriel assez général à Python et `numpy`](http://cs231n.github.io/python-numpy-tutorial/) assez complet.\n",
        "* [Encore un autre tutoriel en anglais](https://www.machinelearningplus.com/python/numpy-tutorial-part1-array-python-examples/)\n"
      ]
    },
    {
      "cell_type": "markdown",
      "metadata": {
        "id": "ZREO_fOgtYu4",
        "colab_type": "text"
      },
      "source": [
        "# 2. Introduction à `numpy`\n"
      ]
    },
    {
      "cell_type": "markdown",
      "metadata": {
        "id": "3L-Cp18t2STK",
        "colab_type": "text"
      },
      "source": [
        "## a. Premiers pas\n",
        "\n",
        "La première étape de ce TP est de charger le module `numpy`, puis de créer un nouveau tableau, par exemple rempli de zéro."
      ]
    },
    {
      "cell_type": "code",
      "metadata": {
        "id": "cAv6IauCFABc",
        "colab_type": "code",
        "outputId": "83f6b543-ab6c-483b-e1ca-13cc049d77d5",
        "colab": {
          "base_uri": "https://localhost:8080/",
          "height": 71
        }
      },
      "source": [
        "# on commence par importer le package numpy, surnommé \"np\"\n",
        "import numpy as np\n",
        "\n",
        "# Une fois numpy chargé, créons un tableau 2D (une matrice)\n",
        "# Le paramètre de `zeros` est la taille dans toutes les dimensions\n",
        "data = np.zeros((3, 4))\n",
        "\n",
        "# affichons la table\n",
        "data"
      ],
      "execution_count": 2,
      "outputs": [
        {
          "output_type": "execute_result",
          "data": {
            "text/plain": [
              "array([[0., 0., 0., 0.],\n",
              "       [0., 0., 0., 0.],\n",
              "       [0., 0., 0., 0.]])"
            ]
          },
          "metadata": {
            "tags": []
          },
          "execution_count": 2
        }
      ]
    },
    {
      "cell_type": "markdown",
      "metadata": {
        "id": "V7alsd162zxI",
        "colab_type": "text"
      },
      "source": [
        "Cette table est un objet `ndarray`, qui est [la structure fondamentale en `numpy`](https://docs.scipy.org/doc/numpy/reference/generated/numpy.ndarray.html). Elle dispose de plusieurs propriétés importantes. Par exemple:"
      ]
    },
    {
      "cell_type": "code",
      "metadata": {
        "id": "KHVJ60Dn29WN",
        "colab_type": "code",
        "outputId": "df2b5dd9-0d88-43cb-925d-c33a9d13a32f",
        "colab": {
          "base_uri": "https://localhost:8080/",
          "height": 178
        }
      },
      "source": [
        "# affichage de la taille de la matrice\n",
        "print('Taille de la matrice', data.shape, '\\n')\n",
        "\n",
        "# affichage du tableau transposé, pratique pour les matrices:\n",
        "print('Tableau transposé:\\n', data.T, '\\n\\nSa taille est ', data.T.shape)"
      ],
      "execution_count": 3,
      "outputs": [
        {
          "output_type": "stream",
          "text": [
            "Taille de la matrice (3, 4) \n",
            "\n",
            "Tableau transposé:\n",
            " [[0. 0. 0.]\n",
            " [0. 0. 0.]\n",
            " [0. 0. 0.]\n",
            " [0. 0. 0.]] \n",
            "\n",
            "Sa taille est  (4, 3)\n"
          ],
          "name": "stdout"
        }
      ]
    },
    {
      "cell_type": "markdown",
      "metadata": {
        "id": "_YN3bx0D46i_",
        "colab_type": "text"
      },
      "source": [
        "Un `ndarray` présente aussi une __pléthore__ de méthodes, qui sont autant de traitements applicables aux données qu'il contient. Elles sont listées [ici](https://docs.scipy.org/doc/numpy/reference/generated/numpy.ndarray.html).\n",
        "\n",
        "Par exemple, on peut aplatir un `ndarray`, ou le redimensionner."
      ]
    },
    {
      "cell_type": "code",
      "metadata": {
        "id": "5_MNNhb55PIo",
        "colab_type": "code",
        "outputId": "86de7324-b489-4b2f-852f-36292454ee18",
        "colab": {
          "base_uri": "https://localhost:8080/",
          "height": 393
        }
      },
      "source": [
        "# création d'un vecteur de dimension 12 contenant les chiffres de 0 à 11:\n",
        "data = np.arange(12)\n",
        "print('Vecteur initial de dimension 12\\n', data)\n",
        "\n",
        "# redimensionnements divers:\n",
        "print('\\nVersion 4x3\\n', data.reshape((4,3)),\n",
        "      '\\n\\nVersion 3x4\\n', data.reshape((3,4)),\n",
        "      '\\n\\nVersion 6x2\\n', data.reshape((6,2)))\n",
        "\n",
        "# gardons la version 4x3 pour la suite.\n",
        "data = data.reshape((4,3))"
      ],
      "execution_count": 4,
      "outputs": [
        {
          "output_type": "stream",
          "text": [
            "Vecteur initial de dimension 12\n",
            " [ 0  1  2  3  4  5  6  7  8  9 10 11]\n",
            "\n",
            "Version 4x3\n",
            " [[ 0  1  2]\n",
            " [ 3  4  5]\n",
            " [ 6  7  8]\n",
            " [ 9 10 11]] \n",
            "\n",
            "Version 3x4\n",
            " [[ 0  1  2  3]\n",
            " [ 4  5  6  7]\n",
            " [ 8  9 10 11]] \n",
            "\n",
            "Version 6x2\n",
            " [[ 0  1]\n",
            " [ 2  3]\n",
            " [ 4  5]\n",
            " [ 6  7]\n",
            " [ 8  9]\n",
            " [10 11]]\n"
          ],
          "name": "stdout"
        }
      ]
    },
    {
      "cell_type": "markdown",
      "metadata": {
        "id": "vQ70vykD35P_",
        "colab_type": "text"
      },
      "source": [
        "L'utilisation fondamentale d'une `ndarray` est la manipulation des données qu'il contient. Cela se fait très simplement et de manière très puissante."
      ]
    },
    {
      "cell_type": "code",
      "metadata": {
        "id": "vnnvSAsU7a_0",
        "colab_type": "code",
        "outputId": "8deab2ef-3f43-4272-82a5-0f6ea13b549d",
        "colab": {
          "base_uri": "https://localhost:8080/",
          "height": 608
        }
      },
      "source": [
        "print('Pour rappel, tableau utilisé: \\n\\n', data)\n",
        "\n",
        "# accès à un élément donné\n",
        "print('\\nLigne 0, colonne 2:', data[0, 2])\n",
        "\n",
        "# accès à toute une ligne:\n",
        "print('\\nLigne 1', data[1, :])\n",
        "# qui peut aussi se faire par:\n",
        "print('  Sans le sélecteur colonne (implicite):', data[1])\n",
        "\n",
        "# accès à une colonne:\n",
        "print('\\nColonne 2', data[:, 2])\n",
        "\n",
        "# accès à une sous matrice par _slicing_, dont la syntaxe est \"start:stop\". \n",
        "# et où stop n'est pas inclu par convention:\n",
        "print('\\nLignes 1 et 2\\n', data[1:3])\n",
        "print('\\nColonnes 0 et 1\\n', data[:, 0:2]) \n",
        "\n",
        "# si start ou stop est 0 ou la fin, on n'est pas obligé de l'indiquer:\n",
        "print('\\nColonnes 0 et 1\\n', data[:, :2]) \n",
        "\n",
        "# on peut combiner une sélection de lignes et de colonnes:\n",
        "print('\\nLignes 2 et 3, colonnes 1 et 2\\n', data[2:4, 1:3])"
      ],
      "execution_count": 5,
      "outputs": [
        {
          "output_type": "stream",
          "text": [
            "Pour rappel, tableau utilisé: \n",
            "\n",
            " [[ 0  1  2]\n",
            " [ 3  4  5]\n",
            " [ 6  7  8]\n",
            " [ 9 10 11]]\n",
            "\n",
            "Ligne 0, colonne 2: 2\n",
            "\n",
            "Ligne 1 [3 4 5]\n",
            "  Sans le sélecteur colonne (implicite): [3 4 5]\n",
            "\n",
            "Colonne 2 [ 2  5  8 11]\n",
            "\n",
            "Lignes 1 et 2\n",
            " [[3 4 5]\n",
            " [6 7 8]]\n",
            "\n",
            "Colonnes 0 et 1\n",
            " [[ 0  1]\n",
            " [ 3  4]\n",
            " [ 6  7]\n",
            " [ 9 10]]\n",
            "\n",
            "Colonnes 0 et 1\n",
            " [[ 0  1]\n",
            " [ 3  4]\n",
            " [ 6  7]\n",
            " [ 9 10]]\n",
            "\n",
            "Lignes 2 et 3, colonnes 1 et 2\n",
            " [[ 7  8]\n",
            " [10 11]]\n"
          ],
          "name": "stdout"
        }
      ]
    },
    {
      "cell_type": "markdown",
      "metadata": {
        "id": "8HwDXOb37aWp",
        "colab_type": "text"
      },
      "source": [
        "On peut noter que toute extraction de données d'un `ndarray` produit un `ndarray`:"
      ]
    },
    {
      "cell_type": "code",
      "metadata": {
        "id": "hF4liCwVEPf3",
        "colab_type": "code",
        "outputId": "8dbc2a84-0f0c-42e2-940b-92fa5d1881a7",
        "colab": {
          "base_uri": "https://localhost:8080/",
          "height": 53
        }
      },
      "source": [
        "print('Taille des données initiales: ', data.shape,\n",
        "      '\\nTaille d\\'un sous tableau: ', data[:2,:2].shape)"
      ],
      "execution_count": 6,
      "outputs": [
        {
          "output_type": "stream",
          "text": [
            "Taille des données initiales:  (4, 3) \n",
            "Taille d'un sous tableau:  (2, 2)\n"
          ],
          "name": "stdout"
        }
      ]
    },
    {
      "cell_type": "markdown",
      "metadata": {
        "id": "Dy4yRQV8Nh3j",
        "colab_type": "text"
      },
      "source": [
        "## b. Données multidimensionnelles\n",
        "\n",
        "Pour l'instant, on n'a considéré que des matrices, ou des vecteurs. Mais en fait, un `ndarray` supporte n'importe quel nombre de dimensions, d'où le nom ND-array: tableau N-dimensionnel."
      ]
    },
    {
      "cell_type": "code",
      "metadata": {
        "id": "bhcRRAIJOn90",
        "colab_type": "code",
        "outputId": "f4e4c735-abcd-4429-cad5-91edd008cdfc",
        "colab": {
          "base_uri": "https://localhost:8080/",
          "height": 375
        }
      },
      "source": [
        "# création d'une version applatie du tableau (c'est un vecteur)\n",
        "data = data.flatten()\n",
        "print('Version aplatie: \\n', data, '\\n  taille:', data.shape)\n",
        "\n",
        "# création d'une matrice\n",
        "data = data.reshape((4,3))\n",
        "print('\\nMatrice:\\n', data, '\\n  taille:', data.shape)\n",
        "\n",
        "# création d'un tableau multidimensionnel (tenseur)\n",
        "data = data.reshape((2,3,2))\n",
        "print('\\nTenseur:\\n', data, '\\n  taille:', data.shape)"
      ],
      "execution_count": 7,
      "outputs": [
        {
          "output_type": "stream",
          "text": [
            "Version aplatie: \n",
            " [ 0  1  2  3  4  5  6  7  8  9 10 11] \n",
            "  taille: (12,)\n",
            "\n",
            "Matrice:\n",
            " [[ 0  1  2]\n",
            " [ 3  4  5]\n",
            " [ 6  7  8]\n",
            " [ 9 10 11]] \n",
            "  taille: (4, 3)\n",
            "\n",
            "Tenseur:\n",
            " [[[ 0  1]\n",
            "  [ 2  3]\n",
            "  [ 4  5]]\n",
            "\n",
            " [[ 6  7]\n",
            "  [ 8  9]\n",
            "  [10 11]]] \n",
            "  taille: (2, 3, 2)\n"
          ],
          "name": "stdout"
        }
      ]
    },
    {
      "cell_type": "markdown",
      "metadata": {
        "id": "AtEo2gcxdL1p",
        "colab_type": "text"
      },
      "source": [
        "Et de la même manière qu'on accédait aux données d'une matrice, on peut accéder aux données d'un tableau d'une dimension quelconque :"
      ]
    },
    {
      "cell_type": "code",
      "metadata": {
        "id": "SW2fgy57dSqu",
        "colab_type": "code",
        "outputId": "a6ec6456-fa15-4cc5-c3e4-af507fb8a1e8",
        "colab": {
          "base_uri": "https://localhost:8080/",
          "height": 214
        }
      },
      "source": [
        "# sélection du deuxième élément de la dimension 0\n",
        "print('data[1]=\\n', data[1, : , :]) # ou data[1]\n",
        "\n",
        "# sélection des deux premier éléments de la dimension 1\n",
        "print('\\ndata[:,2,:]=\\n', data[:, :2, :]) # ou data[:, :2]"
      ],
      "execution_count": 8,
      "outputs": [
        {
          "output_type": "stream",
          "text": [
            "data[1]=\n",
            " [[ 6  7]\n",
            " [ 8  9]\n",
            " [10 11]]\n",
            "\n",
            "data[:,2,:]=\n",
            " [[[0 1]\n",
            "  [2 3]]\n",
            "\n",
            " [[6 7]\n",
            "  [8 9]]]\n"
          ],
          "name": "stdout"
        }
      ]
    },
    {
      "cell_type": "markdown",
      "metadata": {
        "id": "VB5FHnPyeIGC",
        "colab_type": "text"
      },
      "source": [
        "On peut aussi utiliser `...` au lieu de plusieurs fois `:`. `numpy` se charge tout seul de deviner ce qu'on veut\n",
        "\n",
        "> `data[..., 0]` est équivaleunt à `data[:,:, 0]`\n"
      ]
    },
    {
      "cell_type": "markdown",
      "metadata": {
        "id": "Oc7Ea6D_KuUL",
        "colab_type": "text"
      },
      "source": [
        "# 3. Calcul matriciel en `numpy`"
      ]
    },
    {
      "cell_type": "markdown",
      "metadata": {
        "id": "JWU5LUYv8WVr",
        "colab_type": "text"
      },
      "source": [
        "## a. Opérations simples termes à termes\n",
        "\n",
        "Une première famille d'opérations simples qu'on peut facilement réaliser avec des `ndarray` est celle des opérations terme à terme, c'est à dire multiplier, ajouter, soustraire des éléments d'un tableau d'un autre tableau.\n",
        "\n",
        "> Imaginons qu'on ait un tableau $x$ de dimension $M\\times N$, dont on souhaite soustraire les données présentes dans un deuxième tableau $y$, de dimension $M\\times N$, pour calculer $x_{mn}-y_{mn}$\n"
      ]
    },
    {
      "cell_type": "code",
      "metadata": {
        "id": "aTpLycUftwcV",
        "colab_type": "code",
        "colab": {
          "base_uri": "https://localhost:8080/",
          "height": 555
        },
        "outputId": "8c034e91-029f-4018-da6a-38f74c63e2ac"
      },
      "source": [
        "# créons les données, de dimension MxN\n",
        "M = 5\n",
        "N = 10\n",
        "\n",
        "x = np.arange(M*N).reshape((M, N))\n",
        "y = np.ones((M,N))\n",
        "y = y * 2\n",
        "\n",
        "# additions, soustractions et multiplications termes à termes \n",
        "print('x\\n', x)\n",
        "print('y\\n', y)\n",
        "\n",
        "print('x + y\\n', x + y)\n",
        "print('x - y\\n', x - y)\n",
        "print('x * y\\n', x * y)"
      ],
      "execution_count": 17,
      "outputs": [
        {
          "output_type": "stream",
          "text": [
            "x\n",
            " [[ 0  1  2  3  4  5  6  7  8  9]\n",
            " [10 11 12 13 14 15 16 17 18 19]\n",
            " [20 21 22 23 24 25 26 27 28 29]\n",
            " [30 31 32 33 34 35 36 37 38 39]\n",
            " [40 41 42 43 44 45 46 47 48 49]]\n",
            "y\n",
            " [[2. 2. 2. 2. 2. 2. 2. 2. 2. 2.]\n",
            " [2. 2. 2. 2. 2. 2. 2. 2. 2. 2.]\n",
            " [2. 2. 2. 2. 2. 2. 2. 2. 2. 2.]\n",
            " [2. 2. 2. 2. 2. 2. 2. 2. 2. 2.]\n",
            " [2. 2. 2. 2. 2. 2. 2. 2. 2. 2.]]\n",
            "x + y\n",
            " [[ 2.  3.  4.  5.  6.  7.  8.  9. 10. 11.]\n",
            " [12. 13. 14. 15. 16. 17. 18. 19. 20. 21.]\n",
            " [22. 23. 24. 25. 26. 27. 28. 29. 30. 31.]\n",
            " [32. 33. 34. 35. 36. 37. 38. 39. 40. 41.]\n",
            " [42. 43. 44. 45. 46. 47. 48. 49. 50. 51.]]\n",
            "x - y\n",
            " [[-2. -1.  0.  1.  2.  3.  4.  5.  6.  7.]\n",
            " [ 8.  9. 10. 11. 12. 13. 14. 15. 16. 17.]\n",
            " [18. 19. 20. 21. 22. 23. 24. 25. 26. 27.]\n",
            " [28. 29. 30. 31. 32. 33. 34. 35. 36. 37.]\n",
            " [38. 39. 40. 41. 42. 43. 44. 45. 46. 47.]]\n",
            "x * y\n",
            " [[ 0.  2.  4.  6.  8. 10. 12. 14. 16. 18.]\n",
            " [20. 22. 24. 26. 28. 30. 32. 34. 36. 38.]\n",
            " [40. 42. 44. 46. 48. 50. 52. 54. 56. 58.]\n",
            " [60. 62. 64. 66. 68. 70. 72. 74. 76. 78.]\n",
            " [80. 82. 84. 86. 88. 90. 92. 94. 96. 98.]]\n"
          ],
          "name": "stdout"
        }
      ]
    },
    {
      "cell_type": "markdown",
      "metadata": {
        "id": "AZCOM83tMKKs",
        "colab_type": "text"
      },
      "source": [
        "Dans l'exemple précédent, vous remarquerez qu'on a utilisé la syntaxe `y * 2`. On peut très bien multiplier des tableaux par des nombres.\n",
        "\n",
        "En fait, le concept se généralise par la notion de [_broadcasting_](https://docs.scipy.org/doc/numpy/user/basics.broadcasting.html). Le principe est simple: les tableaux n'ont pas besoin d'être de la même dimension pour que les opérations terme à terme fonctionnent.\n",
        "\n",
        "> __Exemple__  \n",
        "> Imaginons qu'on souhaite calculer: $x_{mn}-y_{n}$, où maintenant $y$ est de dimension $N$."
      ]
    },
    {
      "cell_type": "code",
      "metadata": {
        "id": "lLmwd8KhPMnX",
        "colab_type": "code",
        "colab": {
          "base_uri": "https://localhost:8080/",
          "height": 125
        },
        "outputId": "a39def77-6380-490a-8331-fb6fc0786436"
      },
      "source": [
        "x = np.arange(M*N).reshape((M, N))\n",
        "y = np.ones((N)) * 2\n",
        "\n",
        "print('x - y\\n',x-y)"
      ],
      "execution_count": 19,
      "outputs": [
        {
          "output_type": "stream",
          "text": [
            "x - y\n",
            " [[-2. -1.  0.  1.  2.  3.  4.  5.  6.  7.]\n",
            " [ 8.  9. 10. 11. 12. 13. 14. 15. 16. 17.]\n",
            " [18. 19. 20. 21. 22. 23. 24. 25. 26. 27.]\n",
            " [28. 29. 30. 31. 32. 33. 34. 35. 36. 37.]\n",
            " [38. 39. 40. 41. 42. 43. 44. 45. 46. 47.]]\n"
          ],
          "name": "stdout"
        }
      ]
    },
    {
      "cell_type": "markdown",
      "metadata": {
        "id": "OA45nruKPe16",
        "colab_type": "text"
      },
      "source": [
        "Par contre, le broadcasting ne marche que quand les dimensions _en partant de la fin_ sont alignées. \n",
        "\n",
        "> Si on veut utiliser le même code pour plutôt calculer $x_{mn}-y_{m}$, cela ne marchera donc pas ! "
      ]
    },
    {
      "cell_type": "code",
      "metadata": {
        "id": "MmtWiPZIPwLE",
        "colab_type": "code",
        "colab": {
          "base_uri": "https://localhost:8080/",
          "height": 207
        },
        "outputId": "e37b2227-9971-4afa-af34-474ef3a5bb43"
      },
      "source": [
        "x = np.arange(M*N).reshape((M, N))\n",
        "y = np.ones((M)) * 2\n",
        "\n",
        "print('x - y\\n',x-y)"
      ],
      "execution_count": 20,
      "outputs": [
        {
          "output_type": "error",
          "ename": "ValueError",
          "evalue": "ignored",
          "traceback": [
            "\u001b[0;31m---------------------------------------------------------------------------\u001b[0m",
            "\u001b[0;31mValueError\u001b[0m                                Traceback (most recent call last)",
            "\u001b[0;32m<ipython-input-20-3b9ff4108197>\u001b[0m in \u001b[0;36m<module>\u001b[0;34m()\u001b[0m\n\u001b[1;32m      2\u001b[0m \u001b[0my\u001b[0m \u001b[0;34m=\u001b[0m \u001b[0mnp\u001b[0m\u001b[0;34m.\u001b[0m\u001b[0mones\u001b[0m\u001b[0;34m(\u001b[0m\u001b[0;34m(\u001b[0m\u001b[0mM\u001b[0m\u001b[0;34m)\u001b[0m\u001b[0;34m)\u001b[0m \u001b[0;34m*\u001b[0m \u001b[0;36m2\u001b[0m\u001b[0;34m\u001b[0m\u001b[0;34m\u001b[0m\u001b[0m\n\u001b[1;32m      3\u001b[0m \u001b[0;34m\u001b[0m\u001b[0m\n\u001b[0;32m----> 4\u001b[0;31m \u001b[0mprint\u001b[0m\u001b[0;34m(\u001b[0m\u001b[0;34m'x - y\\n'\u001b[0m\u001b[0;34m,\u001b[0m\u001b[0mx\u001b[0m\u001b[0;34m-\u001b[0m\u001b[0my\u001b[0m\u001b[0;34m)\u001b[0m\u001b[0;34m\u001b[0m\u001b[0;34m\u001b[0m\u001b[0m\n\u001b[0m",
            "\u001b[0;31mValueError\u001b[0m: operands could not be broadcast together with shapes (5,10) (5,) "
          ]
        }
      ]
    },
    {
      "cell_type": "markdown",
      "metadata": {
        "id": "AFhWMiB1PzoW",
        "colab_type": "text"
      },
      "source": [
        "Dans ce cas, il est nécessaire de rajouter une dimension à `y`, pour le transformer en $M\\times 1$. Cela se fait très simplement avec la syntaxe suivante:"
      ]
    },
    {
      "cell_type": "code",
      "metadata": {
        "id": "x0ame3dcQBeQ",
        "colab_type": "code",
        "colab": {
          "base_uri": "https://localhost:8080/",
          "height": 53
        },
        "outputId": "66a47b98-0ed1-4407-f6ee-020d8d42e79b"
      },
      "source": [
        "print('Dimensions de y: ', y.shape)\n",
        "print('Dimensions de y[..., None]:', y[...,None].shape)"
      ],
      "execution_count": 22,
      "outputs": [
        {
          "output_type": "stream",
          "text": [
            "Dimensions de y:  (5,)\n",
            "Dimensions de y[..., None]: (5, 1)\n"
          ],
          "name": "stdout"
        }
      ]
    },
    {
      "cell_type": "markdown",
      "metadata": {
        "id": "K5_MDpyrQOSk",
        "colab_type": "text"
      },
      "source": [
        "En fait, `None` permet de rajouter autant de dimensions qu'on veut"
      ]
    },
    {
      "cell_type": "code",
      "metadata": {
        "id": "JrwFLV5RQTUk",
        "colab_type": "code",
        "colab": {
          "base_uri": "https://localhost:8080/",
          "height": 125
        },
        "outputId": "466a2977-8e96-40a1-fb80-b9f00a74f02e"
      },
      "source": [
        "print('Dimensions de y[None, :, None, None]', y[None, :, None, None].shape)\n",
        "print('x- y[:, None]', x - y[:, None])"
      ],
      "execution_count": 24,
      "outputs": [
        {
          "output_type": "stream",
          "text": [
            "Dimensions de y[None, :, None, None] (1, 5, 1, 1)\n",
            "x- y[:, None] [[-2. -1.  0.  1.  2.  3.  4.  5.  6.  7.]\n",
            " [ 8.  9. 10. 11. 12. 13. 14. 15. 16. 17.]\n",
            " [18. 19. 20. 21. 22. 23. 24. 25. 26. 27.]\n",
            " [28. 29. 30. 31. 32. 33. 34. 35. 36. 37.]\n",
            " [38. 39. 40. 41. 42. 43. 44. 45. 46. 47.]]\n"
          ],
          "name": "stdout"
        }
      ]
    },
    {
      "cell_type": "markdown",
      "metadata": {
        "id": "oLVBXJFLWwyv",
        "colab_type": "text"
      },
      "source": [
        "## b. Calcul vectoriel\n"
      ]
    },
    {
      "cell_type": "markdown",
      "metadata": {
        "id": "UPmpGXwLQul2",
        "colab_type": "text"
      },
      "source": [
        "Maintenant qu'on a vu les bases de la manipulation des `ndarray`, voyons comment effectuer des opérations un peu plus sophistiquées.\n",
        "\n",
        "### Produit matriciel\n",
        "\n",
        "Une opération fondamentale quand on manipule des données matricielles est le produit de matrices.\n",
        "\n",
        "> Soient $x$ de dimension $M\\times N$ et $y$ de dimension $N\\times P$, le produit matriciel $z=xy$ est une matrice de dimension $M\\times P$ définie par:\n",
        "> $z_{mp}=\\sum_{n=1}^N x_{mn}y_{np}$  \n",
        "> <img src=\"https://docs.google.com/drawings/d/e/2PACX-1vSSM4Vc-yMXKF0W12_V7b6ytDMUjmdFjKRaCpVNJ7ou00EV8sNefgPj8pn2rVShPiOtnxts8vkAEJk1/pub?w=261&h=313\" alt=\"attention\" height=\"420\" align=\"middle\">\n"
      ]
    },
    {
      "cell_type": "code",
      "metadata": {
        "id": "rP-haPl1bQvL",
        "colab_type": "code",
        "outputId": "e6369d9c-c255-4eed-a1ce-eec2acc60522",
        "colab": {
          "base_uri": "https://localhost:8080/",
          "height": 196
        }
      },
      "source": [
        "# on peut facilement multiplier des matrices en `numpy` avec `numpy.dot`\n",
        "x = np.array([[1, 3, 4],\n",
        "              [4, 5, 6]])\n",
        "y = np.array([[10, 5, 1, 2],\n",
        "              [8, 3, 0, 2],\n",
        "              [7, 2, 2, 4]])\n",
        "\n",
        "print('x\\n', x, '\\ny\\n', y, '\\nxy\\n', np.dot(x, y))"
      ],
      "execution_count": 31,
      "outputs": [
        {
          "output_type": "stream",
          "text": [
            "x\n",
            " [[1 3 4]\n",
            " [4 5 6]] \n",
            "y\n",
            " [[10  5  1  2]\n",
            " [ 8  3  0  2]\n",
            " [ 7  2  2  4]] \n",
            "xy\n",
            " [[ 62  22   9  24]\n",
            " [122  47  16  42]]\n"
          ],
          "name": "stdout"
        }
      ]
    },
    {
      "cell_type": "markdown",
      "metadata": {
        "id": "8Xc1NSCpfx0z",
        "colab_type": "text"
      },
      "source": [
        "### Inversion de matrices\n",
        "\n",
        "Imaginons à présent qu'on ait une matrice `x` de taille $N\\times N$, et qu'on souhaite l'inverser.\n",
        "\n",
        "C'est facile à faire, il nous suffit d'utiliser `numpy.linalg.inv` pour une inversion exacte ou `numpy.linalg.pinv` pour une pseudo-inversion de Moore Penrose:\n"
      ]
    },
    {
      "cell_type": "code",
      "metadata": {
        "id": "OSuDcfS-VjG5",
        "colab_type": "code",
        "colab": {
          "base_uri": "https://localhost:8080/",
          "height": 232
        },
        "outputId": "744e05ce-47ac-4e9f-8be2-3e5a00983ebb"
      },
      "source": [
        "# Création d'une matrice aléatoire\n",
        "N = 3\n",
        "x = np.random.randn(N, N)\n",
        "\n",
        "# inversion de x\n",
        "x_inv = np.linalg.inv(x)\n",
        "print('x\\n', x, '\\nInverse de x\\n', x_inv, '\\ntest: x multiplié par son inverse\\n', np.dot(x,x_inv))"
      ],
      "execution_count": 33,
      "outputs": [
        {
          "output_type": "stream",
          "text": [
            "x\n",
            " [[ 0.25525117  1.20482209 -1.70666398]\n",
            " [-0.57071433 -0.04712384  1.08807598]\n",
            " [-1.69628484 -1.50187433 -0.72980881]] \n",
            "Inverse de x\n",
            " [[-0.46015131 -0.94936846 -0.33935101]\n",
            " [ 0.62386932  0.84975346 -0.19202147]\n",
            " [-0.21433781  0.45789584 -0.18631169]] \n",
            "test: x multiplié par son inverse\n",
            " [[ 1.00000000e+00  1.22758961e-16 -6.51692366e-18]\n",
            " [-1.30760913e-16  1.00000000e+00 -4.77724062e-17]\n",
            " [-9.28480676e-17 -4.04194187e-16  1.00000000e+00]]\n"
          ],
          "name": "stdout"
        }
      ]
    },
    {
      "cell_type": "markdown",
      "metadata": {
        "id": "WNw-c-YdV_ft",
        "colab_type": "text"
      },
      "source": [
        "Comme on peut le constater, on récupère bien une matrice identité. \n",
        "> Notez que la précision machine fait qu'on n'a pas exactement $0$ pour les termes non diagonaux, mais bien quelque chose de _très_ petit, de l'ordre de $10^{-16}$, qui correspond à la précision machine pour un nombre à virgule flottante de 64 bits."
      ]
    },
    {
      "cell_type": "markdown",
      "metadata": {
        "id": "0M6Mv2XiWYM4",
        "colab_type": "text"
      },
      "source": [
        "### Autres opérations\n",
        "\n",
        "On peut avoir tout un tas d'opérations _d'algèbre linéaire_ à effectuer sur des matrices ou des tableaux. La plupart sont déjà implémentées en `numpy` et il suffit de les appliquer. Vous trouverez une liste complète [ici](https://docs.scipy.org/doc/numpy/reference/routines.linalg.html).\n",
        "\n",
        "> Parfois, une fonction retourne _plusieurs valeurs_. Dans ce cas, il suffit de l'appeler de la manière suivante:\n",
        "> \n",
        "> `(a, b, c) = fonction(parametres)`\n"
      ]
    }
  ]
}